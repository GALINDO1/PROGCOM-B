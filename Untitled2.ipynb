{
  "nbformat": 4,
  "nbformat_minor": 0,
  "metadata": {
    "colab": {
      "provenance": [],
      "authorship_tag": "ABX9TyPI4QTLcEMgIHYdqC1dyoNx",
      "include_colab_link": true
    },
    "kernelspec": {
      "name": "python3",
      "display_name": "Python 3"
    },
    "language_info": {
      "name": "python"
    }
  },
  "cells": [
    {
      "cell_type": "markdown",
      "metadata": {
        "id": "view-in-github",
        "colab_type": "text"
      },
      "source": [
        "<a href=\"https://colab.research.google.com/github/GALINDO1/PROGCOM-B/blob/main/Untitled2.ipynb\" target=\"_parent\"><img src=\"https://colab.research.google.com/assets/colab-badge.svg\" alt=\"Open In Colab\"/></a>"
      ]
    },
    {
      "cell_type": "markdown",
      "source": [
        "peleador 2.0\n"
      ],
      "metadata": {
        "id": "VRh0QvHiUMns"
      }
    },
    {
      "cell_type": "code",
      "execution_count": 3,
      "metadata": {
        "colab": {
          "base_uri": "https://localhost:8080/"
        },
        "id": "nKFt6R28ULcn",
        "outputId": "a1289a75-1d5d-4687-b262-3c0538360536"
      },
      "outputs": [
        {
          "output_type": "stream",
          "name": "stdout",
          "text": [
            "Nota del estudiante180\n",
            "80\n"
          ]
        }
      ],
      "source": [
        "\n",
        "Salon=[\"Estudiante1\",\"Estudiante2\",\"Estudiante3\",\"Estudiante4\"]\n",
        "print(input(\"Nota del estudiante1 \"))"
      ]
    }
  ]
}