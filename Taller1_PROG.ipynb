{
  "nbformat": 4,
  "nbformat_minor": 0,
  "metadata": {
    "colab": {
      "name": "Taller1 PROG.ipynb",
      "provenance": [],
      "collapsed_sections": []
    },
    "kernelspec": {
      "name": "python3",
      "display_name": "Python 3"
    },
    "language_info": {
      "name": "python"
    }
  },
  "cells": [
    {
      "cell_type": "markdown",
      "source": [
        "Ejercicio 1\n"
      ],
      "metadata": {
        "id": "uH31NghC4pTD"
      }
    },
    {
      "cell_type": "code",
      "execution_count": 22,
      "metadata": {
        "colab": {
          "base_uri": "https://localhost:8080/"
        },
        "outputId": "b7e5ffe4-b1c3-4b62-ec8f-792bf788eb54",
        "id": "sFvZ_K7F1bbG"
      },
      "outputs": [
        {
          "output_type": "stream",
          "name": "stdout",
          "text": [
            "Digite el primer numero 4\n",
            "Digite el segundo numero 0\n",
            "no se puede dividir en 0\n",
            "La division es 2.0\n",
            "El residuo es  0.0\n",
            "La division es exacta\n"
          ]
        }
      ],
      "source": [
        "#hola\n",
        "a=float(input(\"Digite el primer numero \"))\n",
        "b=float(input(\"Digite el segundo numero \"))\n",
        "\n",
        "if b==0:\n",
        " print(\"no se puede dividir en 0\")\n",
        "else:\n",
        " c=a/b\n",
        "print(\"La division es\",c)\n",
        "residuo=a%c\n",
        "print(\"El residuo es \",residuo)\n",
        "if residuo==0:\n",
        "  print(\"La division es exacta\")\n",
        "else:\n",
        "  print(\"La división no es exacta, su resultado fue\", residuo)\n",
        "    \n"
      ]
    },
    {
      "cell_type": "markdown",
      "source": [
        "Ejercicio 2\n"
      ],
      "metadata": {
        "id": "7AEhVqtW4uPh"
      }
    },
    {
      "cell_type": "code",
      "source": [
        "from typing import cast\n",
        "#profe\n",
        "a=float(input(\"Digite un numero \"))\n",
        "b=float(input(\"Digite un numero \"))\n",
        "c=a%b\n",
        "if c==0:\n",
        "  print (\"El numero es multiplo\")\n",
        "else:\n",
        "  print(\"No son multiplos\")\n",
        "  \n"
      ],
      "metadata": {
        "id": "CFbHKN82wz82"
      },
      "execution_count": null,
      "outputs": []
    },
    {
      "cell_type": "markdown",
      "source": [
        "Ejercicio 3"
      ],
      "metadata": {
        "id": "XliouR6l5Q-L"
      }
    },
    {
      "cell_type": "code",
      "source": [
        "a=float(input(\"Digite la edad del hermano uno \"))\n",
        "b=float(input(\"Digite la edad del hermano dos \"))\n",
        "c=float(input(\"Digite la edad del hermano tercero \"))\n",
        "\n",
        "if a>b:\n",
        "  print"
      ],
      "metadata": {
        "id": "xzc2OxlK5QlZ"
      },
      "execution_count": null,
      "outputs": []
    },
    {
      "cell_type": "markdown",
      "source": [
        "Ejercicio 8"
      ],
      "metadata": {
        "id": "BkwJ0aqeMgPG"
      }
    },
    {
      "cell_type": "code",
      "source": [
        "año=float(input(\"Escriba el año\"))\n",
        "if año%4==0 and año%100==0 and año%400==0:\n",
        "    print(\"Es bisiesto\")\n",
        "elif año%4==0 and año%100==0 and año%400!=0: \n",
        "    print(\"No es bisiesto\")  \n",
        "elif año%4==0 and año%100!=0:  \n",
        "    print(\"Es bisiesto\")\n",
        "elif año%4!=0:    \n",
        "    print(\"No es bisiesto\")\n"
      ],
      "metadata": {
        "colab": {
          "base_uri": "https://localhost:8080/"
        },
        "id": "HpMhZE42Mf8P",
        "outputId": "0bd8efc8-9112-45bb-985e-5d1e34956bdb"
      },
      "execution_count": 44,
      "outputs": [
        {
          "output_type": "stream",
          "name": "stdout",
          "text": [
            "Escriba el año 2022\n",
            "No es bisiesto\n"
          ]
        }
      ]
    }
  ]
}