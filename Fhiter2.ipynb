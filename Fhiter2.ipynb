{
  "nbformat": 4,
  "nbformat_minor": 0,
  "metadata": {
    "colab": {
      "provenance": [],
      "collapsed_sections": []
    },
    "kernelspec": {
      "name": "python3",
      "display_name": "Python 3"
    },
    "language_info": {
      "name": "python"
    }
  },
  "cells": [
    {
      "cell_type": "code",
      "execution_count": null,
      "metadata": {
        "colab": {
          "base_uri": "https://localhost:8080/"
        },
        "id": "TiWv3to_8xYb",
        "outputId": "e4e4b5e0-4999-413c-a713-67806296ebe8"
      },
      "outputs": [
        {
          "output_type": "execute_result",
          "data": {
            "text/plain": [
              "{'Productos': ['Combo 1',\n",
              "  'Combo 2',\n",
              "  'Combo 3',\n",
              "  'Combo 4',\n",
              "  'Papas ',\n",
              "  'Jugos naturales ',\n",
              "  'Cerveza',\n",
              "  'Agua',\n",
              "  'Gaseosas'],\n",
              " '': ['$', '$', '$', '$', '$', '$', '$', '$', '$'],\n",
              " 'Coste': [20000, 25000, 18000, 24500, 3000, 7000, 3500, 4000, 2500]}"
            ]
          },
          "metadata": {},
          "execution_count": 29
        }
      ],
      "source": [
        "\n",
        "import pandas as pd\n",
        "\n",
        "Catalogocompras={\"Productos\":[\"Combo 1\",\"Combo 2\",\"Combo 3\",\"Combo 4\",\"Papas \",\"Jugos naturales \",\"Cerveza\",\"Agua\",\"Gaseosas\"],\"\":[\"$\",\"$\",\"$\",\"$\",\"$\",\"$\",\"$\",\"$\",\"$\"],\"Coste\":[20000,25000,18000,24500,3000,7000,3500,4000,2500]}\n",
        "pd.DataFrame.from_dict(Catalogocompras)\n",
        "\n",
        "Catalogocompras\n",
        "\n"
      ]
    }
  ]
}